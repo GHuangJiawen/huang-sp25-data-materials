{
 "cells": [
  {
   "cell_type": "markdown",
   "metadata": {},
   "source": [
    "## Overview\n"
   ]
  },
  {
   "cell_type": "markdown",
   "metadata": {},
   "source": [
    "### ⚠️ Before you start ⚠️\n",
    "\n",
    "_Duplicate this Jupyter Notebook in your `week-06` folder (right-click -> Duplicate) and then add your last name to the beginning of it (ie. `blevins-hw-05.ipynb` - otherwise you risk having all your work overwritten when you try to sync your GitHub repository with your instructor's repository._\n"
   ]
  },
  {
   "cell_type": "markdown",
   "metadata": {},
   "source": [
    "⚠️ _No, seriously: check the name of this file. Is it the copy you made and not the origina file? If so, you can proceed_ ⚠️\n"
   ]
  },
  {
   "cell_type": "markdown",
   "metadata": {},
   "source": [
    "---\n",
    "\n",
    "Student Name: Jiawen Huang\n"
   ]
  },
  {
   "cell_type": "markdown",
   "metadata": {
    "tags": []
   },
   "source": [
    "This will help you better learn how to use [lists and loops](https://melaniewalsh.github.io/Intro-Cultural-Analytics/02-Python/09-Lists-Loops-Part1.html), [dictionaries](https://melaniewalsh.github.io/Intro-Cultural-Analytics/02-Python/11-Dictionaries.html), and [functions](https://melaniewalsh.github.io/Intro-Cultural-Analytics/02-Python/12-Functions.html) in Python in order to work with textual data.\n"
   ]
  },
  {
   "cell_type": "markdown",
   "metadata": {},
   "source": [
    "## Getting to Know the Data\n"
   ]
  },
  {
   "cell_type": "markdown",
   "metadata": {},
   "source": [
    "In this homework you're going to work with the diary of Martha Ballard, a midwife from Maine in the 1700s and early 1800s made famous by historian Laurel Ulrich's _A Midwife's Tale_. A project at George Mason University digitized her diary and put it online. I've done some research using the entries, and am supplying you with two years' worth of Ballard's diary entries (1804 and 1805). Each entry is contained in a separate text file that I've already processed and cleaned.\n",
    "\n",
    "You can find all of her diary entries as several hundred text files in the `data` subfolder. Navigate to the `data` folder in Jupyter Lab and open up a few of the .txt files to get a feel for what sort of historical documents you will be working with and how they are structured.\n"
   ]
  },
  {
   "cell_type": "markdown",
   "metadata": {},
   "source": [
    "1. What are some observations you have about these as **historical sources**? What jumps out at you?\n"
   ]
  },
  {
   "cell_type": "markdown",
   "metadata": {},
   "source": [
    "I found that they all started with the weather and were short, explaining in a few sentences what had happened and how the inner mood had changed. But as a historical source (and a diary), there is no information about the time inside, and the time information seems to be written in the name of the file."
   ]
  },
  {
   "cell_type": "markdown",
   "metadata": {},
   "source": [
    "2. Look at the filenames of Ballard's diary entries (ex. `18040323.txt`). Try to figure out: what information is stored in the file's name and how is that information structured? What does the file name tell you about the diary entry that is NOT contained in the text file itself?\n"
   ]
  },
  {
   "cell_type": "markdown",
   "metadata": {},
   "source": [
    "Obviously, the file name of the diary is named using date, a total of eight numbers, the first four are the year, the middle two and the last two are the month and the day, storing the date of the diary."
   ]
  },
  {
   "cell_type": "markdown",
   "metadata": {},
   "source": [
    "3. Find and open the diary entry for February 5, 1804. What major event happened to Ballard's family that day?\n"
   ]
  },
  {
   "cell_type": "markdown",
   "metadata": {},
   "source": [
    "The writer’s son, Ephraim, married Mary Farewel, Oldest daughter to the widow at home.\n"
   ]
  },
  {
   "cell_type": "markdown",
   "metadata": {},
   "source": [
    "## Wrangling the Data\n"
   ]
  },
  {
   "cell_type": "markdown",
   "metadata": {},
   "source": [
    "The goal of this section is to take your hundreds of text files worth of diary entries and add them into a dictionary. Each entry in the dictionary is going to consist of a **key** that corresponds to the name of the file (diary entry) and a **value** that contains the contents of the file (the written text of the entry).\n",
    "\n",
    "We will be implementing the following steps across several questions:\n",
    "\n",
    "- Look inside data folder and have Python generate a list of filenames of all the files inside that folder\n",
    "- Loop through our list of filenames, open each diary entry, and read its contents\n",
    "- Decide whether each diary entry was written in 1804 or 1805 and put the entry into a corresponding list\n"
   ]
  },
  {
   "cell_type": "markdown",
   "metadata": {},
   "source": [
    "First we're going to import the `pathlib` library, which helps us more easily work with folder and files. Run this code:\n"
   ]
  },
  {
   "cell_type": "code",
   "execution_count": 51,
   "metadata": {},
   "outputs": [],
   "source": [
    "from pathlib import Path"
   ]
  },
  {
   "cell_type": "markdown",
   "metadata": {},
   "source": [
    "I've provided some code below that will allow you to create two new lists: `file_names` and `file_paths`. The list `file_names` contains a list of all the names of the files ending in `.txt` in our `data` folder (ie. `18040101.txt`). The list `file_paths` is a string with the \"path\" to that file within the `data` folder (ie. `data/18040101.txt`). Run the following code cell:\n"
   ]
  },
  {
   "cell_type": "code",
   "execution_count": 54,
   "metadata": {},
   "outputs": [],
   "source": [
    "txt_files = list(Path('data').glob('*.txt'))\n",
    "\n",
    "file_paths = []\n",
    "\n",
    "# Display the files\n",
    "for file in txt_files:\n",
    "    file_paths.append(str(file))"
   ]
  },
  {
   "cell_type": "markdown",
   "metadata": {},
   "source": [
    "4. Add code to loop through the first **10 items** in your list of **file paths** and print out each of those ten file paths in order to make sure you've done this correctly.\n"
   ]
  },
  {
   "cell_type": "code",
   "execution_count": 57,
   "metadata": {
    "scrolled": true
   },
   "outputs": [
    {
     "name": "stdout",
     "output_type": "stream",
     "text": [
      "data\\18040101.txt\n",
      "data\\18040102.txt\n",
      "data\\18040103.txt\n",
      "data\\18040104.txt\n",
      "data\\18040105.txt\n",
      "data\\18040106.txt\n",
      "data\\18040107.txt\n",
      "data\\18040108.txt\n",
      "data\\18040109.txt\n",
      "data\\18040110.txt\n"
     ]
    }
   ],
   "source": [
    "for path in file_paths[:10]:\n",
    "    print(path)\n",
    "\n"
   ]
  },
  {
   "cell_type": "markdown",
   "metadata": {},
   "source": [
    "We're eventually going to open all of the files in your directory, but with the principal \"start small\" let's start by just opening and reading just **one** of the diary entry files from January 1, 1804. Run the code cell below:\n"
   ]
  },
  {
   "cell_type": "code",
   "execution_count": 60,
   "metadata": {},
   "outputs": [
    {
     "name": "stdout",
     "output_type": "stream",
     "text": [
      "Cloudy, Snowd at night. mr Ballard and Ephraim to meeting. I have been unwell. Son Jonathan, his wife and 6 children Sup#t$ here. we had a puding and roast Spare rib. I was very unwell all nigh#t$ but, as is usual, did with out much Care taken of me. Rachel to bed at 8 oClock. at home, very unwell.\n"
     ]
    }
   ],
   "source": [
    "diary_text=open('data/18040101.txt', encoding='utf-8').read()\n",
    "print(diary_text)"
   ]
  },
  {
   "cell_type": "markdown",
   "metadata": {},
   "source": [
    "5. Open, read, and print out the contents of the **February 5, 1804** diary entry.\n"
   ]
  },
  {
   "cell_type": "code",
   "execution_count": 63,
   "metadata": {},
   "outputs": [
    {
     "name": "stdout",
     "output_type": "stream",
     "text": [
      "Clear. Son*s Pollard and Lambard, their wives and par#t$ of their children Came here. Rhoda, Hannah, Samuel & Dolly tarried here, their parents went to meeting. mr Black and Oldes#t$ Daughter Came with them after meeting and partook with me of a Turkey my husband Sent to me Since he went from home. Son Ephraim and Mary Farewel were Joind in wedlock this evening. at home. my children here,mr Black allso. Son Ephraim was Married to Mary Farewel, Oldes#t$Daug#t$ to y#e$ Widdow.\n"
     ]
    }
   ],
   "source": [
    "diary_text040205=open('data/18040205.txt', encoding='utf-8').read()\n",
    "print(diary_text040205)"
   ]
  },
  {
   "cell_type": "markdown",
   "metadata": {},
   "source": [
    "6. Let's try to isolate JUST the filename rather than the full path - ie. we want to go from `data/18040101.txt` to `18040101.txt`. Write a new function called `isolate_filename` that does the following:\n",
    "\n",
    "- Use the `split()` function to separate the string of the full path into a list with two strings: `data` and `18040101.txt`. [Hint](https://www.w3schools.com/python/ref_string_split.asp): you can specify a specific letter or character to \"split\" it on.\n",
    "- Returns the second item in that two-item list (ie. `18040101.txt`)\n"
   ]
  },
  {
   "cell_type": "code",
   "execution_count": 66,
   "metadata": {},
   "outputs": [],
   "source": [
    "def isolate_filename(file_path):\n",
    "    split_path = file_path.split('\\\\')\n",
    "    return (split_path[-1])"
   ]
  },
  {
   "cell_type": "markdown",
   "metadata": {},
   "source": [
    "7. Let's stitch together all of our the above steps and apply them to every diary entry in the folder.\n",
    "\n",
    "- Create an **empty dictionary** named `diary_dictionary`\n",
    "- Set up a `for loop` to go through your `file_paths` list of file names (ex. `data/18040101.txt`, `data/18040102.txt`, etc.) that you generated above.\n",
    "- **Inside** your `for loop` you are going to do the following:\n",
    "  - Assign a new variable called `filename` that gets filled with the returned value from sending the full file path to your function `isolate_filename`\n",
    "  - Assign a new variable called `diary_text` and assign it the contents of the file using your new variable.\n",
    "  - Add a new item to your dictionary, with the `filename` as the **key** (ex. `18040101.txt`) and the contents of the file (`diary_text`) as the **value**.\n",
    "- Print out **the number of entries** that are now in your dictionary\n"
   ]
  },
  {
   "cell_type": "code",
   "execution_count": 69,
   "metadata": {},
   "outputs": [
    {
     "data": {
      "text/plain": [
       "731"
      ]
     },
     "execution_count": 69,
     "metadata": {},
     "output_type": "execute_result"
    }
   ],
   "source": [
    "diary_dictionary = {}\n",
    "for path in file_paths:\n",
    "    filename=isolate_filename(path)\n",
    "    diary_text=open(path, encoding='utf-8').read()\n",
    "    diary_dictionary[filename]=diary_text\n",
    "len(diary_dictionary)"
   ]
  },
  {
   "cell_type": "markdown",
   "metadata": {},
   "source": [
    "8. Complete the following with `diary_dictionary` of entries:\n",
    "\n",
    "- Use the **key** to access and print the contents for Ballard's entry for **February 5, 1804**.\n",
    "- Create a new `list` of **words** in the above entry (hint: [String Methods](https://melaniewalsh.github.io/Intro-Cultural-Analytics/02-Python/06-String-Methods.html))\n",
    "- Print the number of **words** in the above entry.\n"
   ]
  },
  {
   "cell_type": "code",
   "execution_count": 72,
   "metadata": {},
   "outputs": [
    {
     "data": {
      "text/plain": [
       "82"
      ]
     },
     "execution_count": 72,
     "metadata": {},
     "output_type": "execute_result"
    }
   ],
   "source": [
    "diary040205= diary_dictionary[\"18040205.txt\"]\n",
    "diary_words040205 = diary040205.split(' ')\n",
    "len(diary_words040205)\n",
    "\n"
   ]
  },
  {
   "cell_type": "markdown",
   "metadata": {},
   "source": [
    "---\n",
    "\n",
    "**Bonus Question 1:**\n",
    "\n",
    "Let's say we want to do the same thing as Question 8 (finding the length of an entry) but we don't want to write the same code over and over. Review Walsh's [Functions chapter](https://melaniewalsh.github.io/Intro-Cultural-Analytics/02-Python/12-Functions.html). Define a new function that calculates and prints the length of any given diary entry measured by **number of words.** After you've defined the function, \"call\" it for the entry written on September 22, 1805.\n"
   ]
  },
  {
   "cell_type": "code",
   "execution_count": 75,
   "metadata": {},
   "outputs": [],
   "source": [
    "def wordlen (filename):\n",
    "    return len(diary_dictionary[filename].split(' '))"
   ]
  },
  {
   "cell_type": "code",
   "execution_count": 77,
   "metadata": {},
   "outputs": [
    {
     "data": {
      "text/plain": [
       "106"
      ]
     },
     "execution_count": 77,
     "metadata": {},
     "output_type": "execute_result"
    }
   ],
   "source": [
    "wordlen(\"18050922.txt\")"
   ]
  },
  {
   "cell_type": "markdown",
   "metadata": {},
   "source": [
    "**Bonus Question 2:**\n",
    "\n",
    "- How long is the longest entry Ballard wrote in these years measured by the number of words?\n",
    "- Which entry was it?\n",
    "- Print the contents of that entry\n",
    "\n",
    "Functions you might use:\n",
    "\n",
    "- len()\n",
    "- max()\n",
    "- dictionary.values()\n"
   ]
  },
  {
   "cell_type": "code",
   "execution_count": 80,
   "metadata": {},
   "outputs": [
    {
     "name": "stdout",
     "output_type": "stream",
     "text": [
      "The longest entry is 229 words long,18040317.txt,said: Clear Part of the day. Son & Daughter Pollard and part of thier children here. Shee went on to See her Father. I went afternoon Conducted by Lemuel Witham, a lad who is Com to work with Son Ephraim. I returnd at evening very unwell. Lemuel went to take Son Lambard*s hors and Sleigh to Jones*s for Jonathan and him to Come up in but not finding them ready to Come returnd with it. they Came up on foot and Jonathan Came here with ou#t$ his hat. took him from his Supper, pusht him out adors, Drove him home to his house Damning and pushing him down and Struck him. Shaw and Burr went on after to prevent his being deprived of life. I followed on falling as I went till meeting Daughter Lambard was assisted by her. I reacht his house, find him Cursing and Swearing he would go and giv him a Hard whiping. my Daughter Lambard desired Haman to go and Conducted him to Ephraim. he went and tarried all night. Son Lambard brot me home in his Sleigh. O that the God of all Mercy would forgiv him this and all other misconduc#t$. at Shubael Pitts*s, feel very unwel and what a Sceanhad I to go at evening. may a Good God Support me. funeral mr James Hinkley of Hollowell, his Death was very Suden.\n"
     ]
    }
   ],
   "source": [
    "wordcountmax=0\n",
    "entry=\"\"\n",
    "content=\"\"\n",
    "for filename in diary_dictionary:\n",
    "    if wordlen(filename) > wordcountmax:\n",
    "       wordcountmax = wordlen(filename)\n",
    "       entry = filename\n",
    "       content = diary_dictionary[filename]\n",
    "print(f\"The longest entry is {wordcountmax} words long,{entry},said: {content}\")\n",
    "    "
   ]
  },
  {
   "cell_type": "markdown",
   "metadata": {},
   "source": [
    "## Submission\n",
    "\n",
    "Follow the instructions to submit the assignment on Canvas in two files (one `.ipynb` and one `.pdf`).\n",
    "\n",
    "1. Save your notebook\n",
    "2. Go to Kernel -> Restart Kernel and Run All Cells\n",
    "3. Export as PDF or HTML\n"
   ]
  },
  {
   "cell_type": "code",
   "execution_count": null,
   "metadata": {},
   "outputs": [],
   "source": []
  },
  {
   "cell_type": "code",
   "execution_count": null,
   "metadata": {},
   "outputs": [],
   "source": []
  }
 ],
 "metadata": {
  "kernelspec": {
   "display_name": "Python [conda env:base] *",
   "language": "python",
   "name": "conda-base-py"
  },
  "language_info": {
   "codemirror_mode": {
    "name": "ipython",
    "version": 3
   },
   "file_extension": ".py",
   "mimetype": "text/x-python",
   "name": "python",
   "nbconvert_exporter": "python",
   "pygments_lexer": "ipython3",
   "version": "3.12.7"
  }
 },
 "nbformat": 4,
 "nbformat_minor": 4
}
