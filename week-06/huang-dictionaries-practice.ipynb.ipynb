{
 "cells": [
  {
   "cell_type": "code",
   "execution_count": 1,
   "id": "cd32bbd6-1824-4d58-854a-bdaf0d6b6358",
   "metadata": {},
   "outputs": [
    {
     "name": "stdout",
     "output_type": "stream",
     "text": [
      "{'Patrick Murphy': 45, 'Mary Kelly': 23, 'Thomas Williams': 16, 'Elizabeth Smith': 34}\n"
     ]
    }
   ],
   "source": [
    "# Create a dictionary mapping names to ages\n",
    "ages_dict = {\n",
    "    \"Patrick Murphy\": 45,\n",
    "    \"Mary Kelly\": 23,\n",
    "    \"Thomas Williams\": 16,\n",
    "    \"Elizabeth Smith\": 34\n",
    "}\n",
    "\n",
    "# Print the entire dictionary\n",
    "print(ages_dict)\n"
   ]
  },
  {
   "cell_type": "code",
   "execution_count": 3,
   "id": "c95c1147-d186-4984-a920-f41f8b3575f0",
   "metadata": {},
   "outputs": [
    {
     "name": "stdout",
     "output_type": "stream",
     "text": [
      "Patrick Murphy is 45 years old.\n"
     ]
    }
   ],
   "source": [
    "# Get Patrick's age using his name as the key\n",
    "patricks_age = ages_dict[\"Patrick Murphy\"]\n",
    "print(f\"Patrick Murphy is {patricks_age} years old.\")\n"
   ]
  },
  {
   "cell_type": "code",
   "execution_count": 5,
   "id": "d9201268-55e1-4341-b812-61d4a45dfedf",
   "metadata": {},
   "outputs": [
    {
     "name": "stdout",
     "output_type": "stream",
     "text": [
      "{'Taylor Swift': 35, 'Olivia Rodrigo': 22, 'Tom Hanks': 68, 'Meryl Streep': 75}\n"
     ]
    }
   ],
   "source": [
    "celebrity_ages = {\n",
    "    \"Taylor Swift\": 35,\n",
    "    \"Olivia Rodrigo\": 22,\n",
    "    \"Tom Hanks\": 68,\n",
    "    \"Meryl Streep\": 75\n",
    "}\n",
    "\n",
    "print(celebrity_ages)"
   ]
  },
  {
   "cell_type": "code",
   "execution_count": 11,
   "id": "da1fcc15-8f90-40ea-828c-3b357cc77f2e",
   "metadata": {},
   "outputs": [
    {
     "name": "stdout",
     "output_type": "stream",
     "text": [
      "Olivia Rodrigo is 22 years old.\n"
     ]
    }
   ],
   "source": [
    "Rodrigo_age= celebrity_ages[\"Olivia Rodrigo\"]\n",
    "print(f\"Olivia Rodrigo is {Rodrigo_age} years old.\")"
   ]
  },
  {
   "cell_type": "code",
   "execution_count": 13,
   "id": "ec3712e7-0856-4605-8eae-7ee96feb49bc",
   "metadata": {},
   "outputs": [
    {
     "name": "stdout",
     "output_type": "stream",
     "text": [
      "{'Patrick Murphy': 45, 'Mary Kelly': 23, 'Thomas Williams': 16, 'Elizabeth Smith': 34, 'Michael Sullivan': 64}\n"
     ]
    }
   ],
   "source": [
    "# Add a new person to our ages dictionary\n",
    "ages_dict[\"Michael Sullivan\"] = 64\n",
    "print(ages_dict)\n"
   ]
  },
  {
   "cell_type": "code",
   "execution_count": 15,
   "id": "150ec934-a05f-490b-9ea7-29a17c786840",
   "metadata": {},
   "outputs": [
    {
     "name": "stdout",
     "output_type": "stream",
     "text": [
      "Updated age for Thomas: 17\n"
     ]
    }
   ],
   "source": [
    "# Change someone's age\n",
    "ages_dict[\"Thomas Williams\"] = 17  # Thomas just had a birthday!\n",
    "print(f\"Updated age for Thomas: {ages_dict['Thomas Williams']}\")\n"
   ]
  },
  {
   "cell_type": "code",
   "execution_count": 17,
   "id": "dffa3218-63e1-4c0e-b293-5a5bda35b027",
   "metadata": {},
   "outputs": [
    {
     "name": "stdout",
     "output_type": "stream",
     "text": [
      "{'Taylor Swift': 35, 'Olivia Rodrigo': 22, 'Tom Hanks': 69, 'Meryl Streep': 75, 'Donald Trump': 78}\n"
     ]
    }
   ],
   "source": [
    "celebrity_ages[\"Donald Trump\"]= 78\n",
    "celebrity_ages[\"Tom Hanks\"]= 69\n",
    "print(celebrity_ages)"
   ]
  },
  {
   "cell_type": "code",
   "execution_count": 19,
   "id": "3591d070-8344-4795-b7ad-3a0905c739e1",
   "metadata": {},
   "outputs": [
    {
     "name": "stdout",
     "output_type": "stream",
     "text": [
      "Patrick Murphy is 45 years old.\n",
      "Mary Kelly is 23 years old.\n",
      "Thomas Williams is 17 years old.\n",
      "Elizabeth Smith is 34 years old.\n",
      "Michael Sullivan is 64 years old.\n",
      "Patrick Murphy is 45 years old.\n",
      "Mary Kelly is 23 years old.\n",
      "Thomas Williams is 17 years old.\n",
      "Elizabeth Smith is 34 years old.\n",
      "Michael Sullivan is 64 years old.\n"
     ]
    }
   ],
   "source": [
    "# Loop through all names and ages\n",
    "for name in ages_dict:\n",
    "    print(f\"{name} is {ages_dict[name]} years old.\")\n",
    "\n",
    "# A more elegant way using the .items() method\n",
    "for name, age in ages_dict.items():\n",
    "    print(f\"{name} is {age} years old.\")\n"
   ]
  },
  {
   "cell_type": "code",
   "execution_count": 21,
   "id": "1d9f9b22-ffdd-4d63-9eba-860f127eed59",
   "metadata": {},
   "outputs": [
    {
     "name": "stdout",
     "output_type": "stream",
     "text": [
      "Patrick Murphy is 45 years old.\n",
      "Elizabeth Smith is 34 years old.\n",
      "Michael Sullivan is 64 years old.\n"
     ]
    }
   ],
   "source": [
    "# Find all people over 30\n",
    "for name, age in ages_dict.items():\n",
    "    if age > 30:\n",
    "        print(f\"{name} is {age} years old.\")\n"
   ]
  },
  {
   "cell_type": "code",
   "execution_count": 55,
   "id": "b4508ef0-2854-4ca3-acf2-82cf8f987313",
   "metadata": {},
   "outputs": [
    {
     "name": "stdout",
     "output_type": "stream",
     "text": [
      "Taylor Swift is Millenial\n",
      "Olivia Rodrigo is Gen Z\n",
      "Tom Hanks is Boomer\n",
      "Meryl Streep is Boomer\n",
      "Donald Trump is Boomer\n"
     ]
    }
   ],
   "source": [
    "for name, age in celebrity_ages.items():\n",
    "    if age>=13 and age<=28:\n",
    "        print(f\"{name} is Gen Z\")\n",
    "    elif age>=29 and age<=44:\n",
    "        print(f\"{name} is Millenial\")\n",
    "    elif age>=61 and age<=79:\n",
    "        print(f\"{name} is Boomer\")"
   ]
  },
  {
   "cell_type": "code",
   "execution_count": 57,
   "id": "a1ddb2a0-dc1f-4d6c-a1f3-086f6c7eda0b",
   "metadata": {},
   "outputs": [],
   "source": [
    "# Create one dictionary with all information about each person\n",
    "census_data = {\n",
    "    \"Patrick Murphy\": {\n",
    "        \"age\": 45,\n",
    "        \"birth_place\": \"Ireland\",\n",
    "        \"occupation\": \"farmer\"\n",
    "    },\n",
    "    \"Mary Kelly\": {\n",
    "        \"age\": 23,\n",
    "        \"birth_place\": \"Ireland\",\n",
    "        \"occupation\": \"servant\"\n",
    "    },\n",
    "    \"Thomas Williams\": {\n",
    "        \"age\": 17,\n",
    "        \"birth_place\": \"Wales\",\n",
    "        \"occupation\": \"laborer\"\n",
    "    },\n",
    "    \"Elizabeth Smith\": {\n",
    "    \"age\": 34,\n",
    "    \"birth_place\": \"England\",\n",
    "    \"occupation\": \"servant\"\n",
    "    }\n",
    "}\n"
   ]
  },
  {
   "cell_type": "code",
   "execution_count": 59,
   "id": "843ce5b9-b7fe-4922-8c85-f57c123b085f",
   "metadata": {},
   "outputs": [
    {
     "name": "stdout",
     "output_type": "stream",
     "text": [
      "{'age': 45, 'birth_place': 'Ireland', 'occupation': 'farmer'}\n",
      "farmer\n"
     ]
    }
   ],
   "source": [
    "# Access data from our nested dictionary\n",
    "print(census_data[\"Patrick Murphy\"])\n",
    "print(census_data[\"Patrick Murphy\"][\"occupation\"])\n"
   ]
  },
  {
   "cell_type": "code",
   "execution_count": 61,
   "id": "e0ba4a6a-4e8b-4845-be8f-495a5c8cefa3",
   "metadata": {},
   "outputs": [
    {
     "name": "stdout",
     "output_type": "stream",
     "text": [
      "Mary Kelly is 23.\n"
     ]
    }
   ],
   "source": [
    "print(f\"Mary Kelly is {census_data[\"Mary Kelly\"][\"age\"]}.\")"
   ]
  },
  {
   "cell_type": "code",
   "execution_count": 63,
   "id": "63a07ffc-7285-4059-83a2-c13b7a655947",
   "metadata": {},
   "outputs": [],
   "source": [
    "# Here are our lists of data\n",
    "names = [\"Patrick Murphy\", \"Mary Kelly\", \"Thomas Williams\", \"Elizabeth Smith\", \"Michael Sullivan\",\n",
    "         \"Anna Schmidt\", \"William Johnson\", \"James O'Connor\", \"Bridget Walsh\", \"Robert Campbell\",\n",
    "         \"Catherine Miller\", \"George Thompson\", \"Sean O'Neill\", \"David Jones\", \"Kevin Burke\",\n",
    "         \"Margaret Wilson\", \"Donald Fraser\", \"Eileen Doyle\", \"Frieda Weber\", \"Timothy Ryan\"]\n",
    "\n",
    "ages = [45, 23, 16, 34, 64, 28, 42, 31, 27, 38, 17, 52, 29, 44, 33, 15, 61, 36, 18, 41]\n",
    "\n",
    "birth_places = ['Ireland', 'Ireland', 'New York', 'England', 'Ireland', 'Germany', 'New York',\n",
    "               'Ireland', 'Ireland', 'Scotland', 'Ireland', 'England', 'Ireland', 'Wales',\n",
    "               'Ireland', 'Ireland', 'Scotland', 'Ireland', 'Germany', 'Ireland']\n",
    "\n",
    "occupations = ['farmer', 'servant', 'laborer', 'merchant', 'farmer', 'servant', 'teacher', 'farmer',\n",
    "              'laborer', 'merchant', 'servant', 'farmer', 'laborer', 'blacksmith', 'carpenter',\n",
    "              'servant', 'farmer', 'weaver', 'servant', 'carpenter']\n"
   ]
  },
  {
   "cell_type": "code",
   "execution_count": 71,
   "id": "6d8e2069-cc7e-4f43-9dee-51749ff7777d",
   "metadata": {},
   "outputs": [
    {
     "data": {
      "text/plain": [
       "{'Patrick Murphy': {'age': 45,\n",
       "  'birth_place': 'Ireland',\n",
       "  'occupation': 'farmer'},\n",
       " 'Mary Kelly': {'age': 23, 'birth_place': 'Ireland', 'occupation': 'servant'},\n",
       " 'Thomas Williams': {'age': 16,\n",
       "  'birth_place': 'New York',\n",
       "  'occupation': 'laborer'},\n",
       " 'Elizabeth Smith': {'age': 34,\n",
       "  'birth_place': 'England',\n",
       "  'occupation': 'merchant'},\n",
       " 'Michael Sullivan': {'age': 64,\n",
       "  'birth_place': 'Ireland',\n",
       "  'occupation': 'farmer'},\n",
       " 'Anna Schmidt': {'age': 28,\n",
       "  'birth_place': 'Germany',\n",
       "  'occupation': 'servant'},\n",
       " 'William Johnson': {'age': 42,\n",
       "  'birth_place': 'New York',\n",
       "  'occupation': 'teacher'},\n",
       " \"James O'Connor\": {'age': 31,\n",
       "  'birth_place': 'Ireland',\n",
       "  'occupation': 'farmer'},\n",
       " 'Bridget Walsh': {'age': 27,\n",
       "  'birth_place': 'Ireland',\n",
       "  'occupation': 'laborer'},\n",
       " 'Robert Campbell': {'age': 38,\n",
       "  'birth_place': 'Scotland',\n",
       "  'occupation': 'merchant'},\n",
       " 'Catherine Miller': {'age': 17,\n",
       "  'birth_place': 'Ireland',\n",
       "  'occupation': 'servant'},\n",
       " 'George Thompson': {'age': 52,\n",
       "  'birth_place': 'England',\n",
       "  'occupation': 'farmer'},\n",
       " \"Sean O'Neill\": {'age': 29,\n",
       "  'birth_place': 'Ireland',\n",
       "  'occupation': 'laborer'},\n",
       " 'David Jones': {'age': 44,\n",
       "  'birth_place': 'Wales',\n",
       "  'occupation': 'blacksmith'},\n",
       " 'Kevin Burke': {'age': 33,\n",
       "  'birth_place': 'Ireland',\n",
       "  'occupation': 'carpenter'},\n",
       " 'Margaret Wilson': {'age': 15,\n",
       "  'birth_place': 'Ireland',\n",
       "  'occupation': 'servant'},\n",
       " 'Donald Fraser': {'age': 61,\n",
       "  'birth_place': 'Scotland',\n",
       "  'occupation': 'farmer'},\n",
       " 'Eileen Doyle': {'age': 36, 'birth_place': 'Ireland', 'occupation': 'weaver'},\n",
       " 'Frieda Weber': {'age': 18,\n",
       "  'birth_place': 'Germany',\n",
       "  'occupation': 'servant'},\n",
       " 'Timothy Ryan': {'age': 41,\n",
       "  'birth_place': 'Ireland',\n",
       "  'occupation': 'carpenter'}}"
      ]
     },
     "execution_count": 71,
     "metadata": {},
     "output_type": "execute_result"
    }
   ],
   "source": [
    "auto_census = {}\n",
    "\n",
    "for i in range(len(names)):\n",
    "    name = names[i]\n",
    "    age = ages[i]\n",
    "    birth_place = birth_places[i]\n",
    "    occupation = occupations[i]\n",
    "    \n",
    "    auto_census[name] = {\n",
    "        \"age\": age,\n",
    "        \"birth_place\": birth_place,\n",
    "        \"occupation\": occupation\n",
    "    }\n",
    "\n",
    "auto_census\n"
   ]
  },
  {
   "cell_type": "code",
   "execution_count": null,
   "id": "5bd7a262-63f7-4bf5-99e0-4cbbfbe38ffc",
   "metadata": {},
   "outputs": [],
   "source": []
  }
 ],
 "metadata": {
  "kernelspec": {
   "display_name": "Python [conda env:base] *",
   "language": "python",
   "name": "conda-base-py"
  },
  "language_info": {
   "codemirror_mode": {
    "name": "ipython",
    "version": 3
   },
   "file_extension": ".py",
   "mimetype": "text/x-python",
   "name": "python",
   "nbconvert_exporter": "python",
   "pygments_lexer": "ipython3",
   "version": "3.12.7"
  }
 },
 "nbformat": 4,
 "nbformat_minor": 5
}
