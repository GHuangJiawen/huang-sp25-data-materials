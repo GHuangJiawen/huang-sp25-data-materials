{
 "cells": [
  {
   "cell_type": "code",
   "execution_count": 3,
   "id": "d3478615-59d9-42b0-8753-348e04f31a11",
   "metadata": {},
   "outputs": [],
   "source": [
    "# Boston population data\n",
    "boston_1850 = 136881\n",
    "boston_1860 = 177840\n",
    "boston_1870 = 250526\n",
    "\n",
    "# New York population data\n",
    "ny_1850 = 515547\n",
    "ny_1860 = 813669\n",
    "ny_1870 = 942292\n",
    "\n",
    "# Philadelphia population data\n",
    "phil_1850 = 121376\n",
    "phil_1860 = 565529\n",
    "phil_1870 = 674022\n"
   ]
  },
  {
   "cell_type": "code",
   "execution_count": 33,
   "id": "f7752964-bec9-466b-b8e4-4033e7202cdf",
   "metadata": {},
   "outputs": [
    {
     "name": "stdout",
     "output_type": "stream",
     "text": [
      "Boston has a population more than 200000 in 1870\n"
     ]
    }
   ],
   "source": [
    "boston1870 = boston_1870 > 200000\n",
    "\n",
    "if boston1870 == True:\n",
    "    print(\"Boston has a population more than 200000 in 1870\")\n",
    "else :\n",
    "    print(\"No\")"
   ]
  },
  {
   "cell_type": "code",
   "execution_count": 48,
   "id": "0775e796-418c-4276-860d-e2f23bb8e9f6",
   "metadata": {},
   "outputs": [
    {
     "name": "stdout",
     "output_type": "stream",
     "text": [
      "ny\n"
     ]
    }
   ],
   "source": [
    "if ny_1860 > phil_1860:\n",
    "    print(\"ny\")\n",
    "elif ny_1860 < phil_1860 :\n",
    "    print(\"phil\")\n",
    "else :\n",
    "    print(\"equal\")"
   ]
  },
  {
   "cell_type": "code",
   "execution_count": 50,
   "id": "e2e7243a-3b2b-4889-b3a5-c0afd038df40",
   "metadata": {},
   "outputs": [],
   "source": [
    "# Calculate population growth\n",
    "boston_growth = boston_1870 - boston_1850\n",
    "ny_growth = ny_1870 - ny_1850\n",
    "phil_growth = phil_1870 - phil_1850"
   ]
  },
  {
   "cell_type": "code",
   "execution_count": 52,
   "id": "28d8463b-ea62-4017-8e4d-87e602fcfc62",
   "metadata": {},
   "outputs": [
    {
     "name": "stdout",
     "output_type": "stream",
     "text": [
      "Fastest growing city: Philadelphia!\n"
     ]
    }
   ],
   "source": [
    "if boston_growth > ny_growth and boston_growth > phil_growth:\n",
    "    print(\"Fastest growing city: Boston!\")\n",
    "elif ny_growth > boston_growth and ny_growth > phil_growth:\n",
    "    print(\"Fastest growing city: New York!\")\n",
    "elif phil_growth > boston_growth and phil_growth > ny_growth:\n",
    "    print(\"Fastest growing city: Philadelphia!\")\n",
    "else:\n",
    "    print(\"There is a tie between the fastest-growing cities!\")"
   ]
  },
  {
   "cell_type": "code",
   "execution_count": 54,
   "id": "f8a429c5-b0cc-46a3-9f2a-d5afc60a64a1",
   "metadata": {},
   "outputs": [
    {
     "name": "stdout",
     "output_type": "stream",
     "text": [
      "Both conditions are met!\n"
     ]
    }
   ],
   "source": [
    "if boston_1870 > 200000 and boston_growth >= 100000:\n",
    "    print(\"Both conditions are met!\")\n",
    "else:\n",
    "    print(\"One or both conditions are not met.\")"
   ]
  },
  {
   "cell_type": "code",
   "execution_count": null,
   "id": "6238fc81-e880-405f-9564-9f5395e75421",
   "metadata": {},
   "outputs": [],
   "source": []
  },
  {
   "cell_type": "code",
   "execution_count": null,
   "id": "59f181b9-d47b-4fe0-a46a-9f65d2c8d0c7",
   "metadata": {},
   "outputs": [],
   "source": []
  }
 ],
 "metadata": {
  "kernelspec": {
   "display_name": "Python [conda env:base] *",
   "language": "python",
   "name": "conda-base-py"
  },
  "language_info": {
   "codemirror_mode": {
    "name": "ipython",
    "version": 3
   },
   "file_extension": ".py",
   "mimetype": "text/x-python",
   "name": "python",
   "nbconvert_exporter": "python",
   "pygments_lexer": "ipython3",
   "version": "3.12.7"
  }
 },
 "nbformat": 4,
 "nbformat_minor": 5
}
