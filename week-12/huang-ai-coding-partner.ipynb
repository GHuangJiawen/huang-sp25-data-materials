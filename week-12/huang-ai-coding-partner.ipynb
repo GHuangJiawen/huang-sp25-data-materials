{
 "cells": [
  {
   "cell_type": "code",
   "execution_count": 1,
   "id": "3d4f42b2-0a3e-47f6-8033-7163276c4b61",
   "metadata": {},
   "outputs": [
    {
     "name": "stdout",
     "output_type": "stream",
     "text": [
      "提取完成，文件已保存为：female_detainees_cases_1882_1892.csv\n"
     ]
    }
   ],
   "source": [
    "#!/usr/bin/env python3\n",
    "# -*- coding: utf-8 -*-\n",
    "\"\"\"\n",
    "脚本功能：从 Female detainees' records.html 中提取案件链接并生成 CSV\n",
    "\"\"\"\n",
    "\n",
    "import re\n",
    "from bs4 import BeautifulSoup\n",
    "import pandas as pd\n",
    "\n",
    "# 1. 读取 HTML 文件（注意页面声明的是 windows-1252 编码）\n",
    "with open(\"Female detainees' records.html\", encoding=\"windows-1252\") as f:\n",
    "    html = f.read()\n",
    "\n",
    "# 2. 使用 BeautifulSoup 解析 HTML\n",
    "soup = BeautifulSoup(html, \"lxml\")\n",
    "body = soup.body\n",
    "\n",
    "# 3. 找到所有 <a> 标签\n",
    "all_links = body.find_all(\"a\")\n",
    "\n",
    "# 4. 过滤出以 “Case <数字>” 开头的链接\n",
    "case_links = []\n",
    "case_pattern = re.compile(r\"^Case\\s+\\d+\", re.IGNORECASE)\n",
    "for a in all_links:\n",
    "    txt = a.get_text(strip=True)\n",
    "    if case_pattern.match(txt):\n",
    "        case_links.append(a)\n",
    "\n",
    "# 5. 从每个链接中提取 case_number, description, url\n",
    "records = []\n",
    "for a in case_links:\n",
    "    txt = a.get_text(\" \", strip=True)      # 如 \"Case 2657 Moy Chin See his wife\"\n",
    "    href = a.get(\"href\")                   # 如 \"https://www.frederickbee.com/2657.html\"\n",
    "    m = re.match(r\"Case\\s+(\\d+)\\s+(.*)\", txt, re.IGNORECASE)\n",
    "    if not m:\n",
    "        continue\n",
    "    records.append({\n",
    "        \"case_number\": m.group(1),\n",
    "        \"description\": m.group(2),         # 如 \"Moy Chin See his wife\"\n",
    "        \"url\": href\n",
    "    })\n",
    "\n",
    "# 6. 转为 pandas DataFrame\n",
    "df = pd.DataFrame(records)\n",
    "\n",
    "# 7. 去重（如果同一 case_number 出现多次，则保留第一次）\n",
    "df = df.drop_duplicates(subset=\"case_number\", keep=\"first\")\n",
    "\n",
    "# 8. 排除“appeal”、“Testimony”、“records”等非主诉求条目\n",
    "exclude_re = re.compile(r\"appeal|testimony|records\", re.IGNORECASE)\n",
    "df = df[~df[\"description\"].str.contains(exclude_re)]\n",
    "\n",
    "# 9. （可选）进一步拆分姓名和其他说明，需要人工检查正则是否覆盖所有情况\n",
    "# df[[\"name\", \"extra\"]] = df[\"description\"].str.extract(r\"^([\\w\\s\\.\\']+)(.*)$\", expand=True)\n",
    "\n",
    "# 10. 导出为 CSV（UTF-8 编码）\n",
    "output_file = \"female_detainees_cases_1882_1892.csv\"\n",
    "df.to_csv(output_file, index=False, encoding=\"utf-8\")\n",
    "\n",
    "print(f\"提取完成，文件已保存为：{output_file}\")\n"
   ]
  },
  {
   "cell_type": "code",
   "execution_count": null,
   "id": "4665c96a-281f-4c5e-9991-8baf364f98c1",
   "metadata": {},
   "outputs": [],
   "source": []
  }
 ],
 "metadata": {
  "kernelspec": {
   "display_name": "Python [conda env:base] *",
   "language": "python",
   "name": "conda-base-py"
  },
  "language_info": {
   "codemirror_mode": {
    "name": "ipython",
    "version": 3
   },
   "file_extension": ".py",
   "mimetype": "text/x-python",
   "name": "python",
   "nbconvert_exporter": "python",
   "pygments_lexer": "ipython3",
   "version": "3.12.7"
  }
 },
 "nbformat": 4,
 "nbformat_minor": 5
}
