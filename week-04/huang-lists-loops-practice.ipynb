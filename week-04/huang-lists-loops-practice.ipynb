{
 "cells": [
  {
   "cell_type": "code",
   "execution_count": 1,
   "id": "49ac74f9-f0d4-47e9-ab38-430d936ceac6",
   "metadata": {},
   "outputs": [],
   "source": [
    "ages = [45, 23, 16, 34, 64, 28, 42, 31, 27, 38, 17, 52, 29, 44, 33, 15, 61, 36, 18, 41]\n",
    "\n",
    "occupations = ['farmer', 'servant', 'laborer', 'merchant', 'farmer', 'servant', 'teacher', 'farmer', 'laborer', 'merchant', 'servant', 'farmer', 'laborer', 'blacksmith', 'carpenter', 'servant', 'farmer', 'weaver', 'servant', 'carpenter']\n",
    "\n",
    "birth_places = ['Ireland', 'Ireland', 'New York', 'England', 'Ireland', 'Germany', 'New York', 'Ireland', 'Ireland', 'Scotland', 'Ireland', 'England', 'Ireland', 'Wales', 'Ireland', 'Ireland', 'Scotland', 'Ireland', 'Germany', 'Ireland']\n"
   ]
  },
  {
   "cell_type": "code",
   "execution_count": 7,
   "id": "d555d900-8835-46d2-87e8-be469d95b238",
   "metadata": {},
   "outputs": [
    {
     "name": "stdout",
     "output_type": "stream",
     "text": [
      "20\n",
      "20\n",
      "20\n"
     ]
    }
   ],
   "source": [
    "ages_lenth= len(ages)\n",
    "occupations_lenth= len(occupations)\n",
    "birth_place_lenth= len(birth_places)\n",
    "print(ages_lenth)\n",
    "print(occupations_lenth)\n",
    "print(birth_place_lenth)"
   ]
  },
  {
   "cell_type": "code",
   "execution_count": 9,
   "id": "e39c57a0-e5e7-4719-87dd-7a14ab66d829",
   "metadata": {},
   "outputs": [
    {
     "data": {
      "text/plain": [
       "['farmer', 'servant', 'laborer', 'merchant', 'farmer']"
      ]
     },
     "execution_count": 9,
     "metadata": {},
     "output_type": "execute_result"
    }
   ],
   "source": [
    "occupations[:5]"
   ]
  },
  {
   "cell_type": "code",
   "execution_count": 11,
   "id": "840fcb40-e689-4eec-a93a-a3c4aacc9321",
   "metadata": {},
   "outputs": [
    {
     "data": {
      "text/plain": [
       "Counter({'farmer': 5,\n",
       "         'servant': 5,\n",
       "         'laborer': 3,\n",
       "         'merchant': 2,\n",
       "         'carpenter': 2,\n",
       "         'teacher': 1,\n",
       "         'blacksmith': 1,\n",
       "         'weaver': 1})"
      ]
     },
     "execution_count": 11,
     "metadata": {},
     "output_type": "execute_result"
    }
   ],
   "source": [
    "from collections import Counter\n",
    "Counter(occupations)\n"
   ]
  },
  {
   "cell_type": "code",
   "execution_count": 13,
   "id": "0615b11f-5187-4bcf-b5f4-6c92760c0459",
   "metadata": {},
   "outputs": [
    {
     "data": {
      "text/plain": [
       "Counter({45: 1,\n",
       "         23: 1,\n",
       "         16: 1,\n",
       "         34: 1,\n",
       "         64: 1,\n",
       "         28: 1,\n",
       "         42: 1,\n",
       "         31: 1,\n",
       "         27: 1,\n",
       "         38: 1,\n",
       "         17: 1,\n",
       "         52: 1,\n",
       "         29: 1,\n",
       "         44: 1,\n",
       "         33: 1,\n",
       "         15: 1,\n",
       "         61: 1,\n",
       "         36: 1,\n",
       "         18: 1,\n",
       "         41: 1})"
      ]
     },
     "execution_count": 13,
     "metadata": {},
     "output_type": "execute_result"
    }
   ],
   "source": [
    "Counter(ages)"
   ]
  },
  {
   "cell_type": "code",
   "execution_count": 15,
   "id": "eeb3e6b3-6cde-4427-9ed9-5fdaf4c8ddc5",
   "metadata": {},
   "outputs": [
    {
     "data": {
      "text/plain": [
       "Counter({'Ireland': 11,\n",
       "         'New York': 2,\n",
       "         'England': 2,\n",
       "         'Germany': 2,\n",
       "         'Scotland': 2,\n",
       "         'Wales': 1})"
      ]
     },
     "execution_count": 15,
     "metadata": {},
     "output_type": "execute_result"
    }
   ],
   "source": [
    "Counter(birth_places)"
   ]
  },
  {
   "cell_type": "code",
   "execution_count": 17,
   "id": "fd4a036c-5e79-46b9-95da-d7fbe6f21b5a",
   "metadata": {},
   "outputs": [
    {
     "name": "stdout",
     "output_type": "stream",
     "text": [
      "Person #0: farmer\n",
      "Person #1: servant\n",
      "Person #2: laborer\n",
      "Person #3: merchant\n",
      "Person #4: farmer\n",
      "Person #5: servant\n",
      "Person #6: teacher\n",
      "Person #7: farmer\n",
      "Person #8: laborer\n",
      "Person #9: merchant\n",
      "Person #10: servant\n",
      "Person #11: farmer\n",
      "Person #12: laborer\n",
      "Person #13: blacksmith\n",
      "Person #14: carpenter\n",
      "Person #15: servant\n",
      "Person #16: farmer\n",
      "Person #17: weaver\n",
      "Person #18: servant\n",
      "Person #19: carpenter\n"
     ]
    }
   ],
   "source": [
    "for number, occupation in enumerate(occupations):\n",
    "    print(f\"Person #{number}: {occupation}\")\n"
   ]
  },
  {
   "cell_type": "code",
   "execution_count": 25,
   "id": "272251ee-dce3-46df-a8ae-71d9c4b00e71",
   "metadata": {},
   "outputs": [
    {
     "name": "stdout",
     "output_type": "stream",
     "text": [
      "Person #0: 45\n",
      "Person #1: 23\n",
      "Person #2: 16\n",
      "Person #3: 34\n",
      "Person #4: 64\n",
      "Person #5: 28\n",
      "Person #6: 42\n",
      "Person #7: 31\n",
      "Person #8: 27\n",
      "Person #9: 38\n",
      "Person #10: 17\n",
      "Person #11: 52\n",
      "Person #12: 29\n",
      "Person #13: 44\n",
      "Person #14: 33\n",
      "Person #15: 15\n",
      "Person #16: 61\n",
      "Person #17: 36\n",
      "Person #18: 18\n",
      "Person #19: 41\n"
     ]
    }
   ],
   "source": [
    "for number, age in enumerate(ages):\n",
    "    print(f\"Person #{number}: {age}\")"
   ]
  },
  {
   "cell_type": "code",
   "execution_count": 27,
   "id": "3e640586-8ea1-4a34-b33a-fc8b4e0e56fc",
   "metadata": {},
   "outputs": [
    {
     "name": "stdout",
     "output_type": "stream",
     "text": [
      "Number of skilled laborers: 4\n"
     ]
    }
   ],
   "source": [
    "skilled_laborers = []\n",
    "for occupation in occupations:\n",
    "    if occupation == 'blacksmith' or occupation == 'carpenter' or occupation == 'weaver':\n",
    "        skilled_laborers.append(occupation)\n",
    "print(f\"Number of skilled laborers: {len(skilled_laborers)}\")\n"
   ]
  },
  {
   "cell_type": "code",
   "execution_count": 29,
   "id": "b401cdd9-2a89-4c39-a1ec-7ecde8b7af24",
   "metadata": {},
   "outputs": [
    {
     "name": "stdout",
     "output_type": "stream",
     "text": [
      "Number of people born in UK: 14\n"
     ]
    }
   ],
   "source": [
    "birth_uk = []\n",
    "for birth_place in birth_places:\n",
    "    if birth_place == 'England' or birth_place == 'Ireland' or birth_place == 'Wales':\n",
    "        birth_uk.append(birth_place)\n",
    "print(f\"Number of people born in UK: {len(birth_uk)}\")"
   ]
  },
  {
   "cell_type": "code",
   "execution_count": 31,
   "id": "84333c6f-bd68-4441-bd1d-4b6b0518c082",
   "metadata": {},
   "outputs": [
    {
     "name": "stdout",
     "output_type": "stream",
     "text": [
      " 8\n"
     ]
    }
   ],
   "source": [
    "youth = []\n",
    "for person in ages:\n",
    "    if person < 30:\n",
    "        youth.append(person)\n",
    "print(f\" {len(youth)}\")"
   ]
  },
  {
   "cell_type": "code",
   "execution_count": null,
   "id": "62ef2ce7-281d-4b98-87ce-4491dde76aeb",
   "metadata": {},
   "outputs": [],
   "source": []
  }
 ],
 "metadata": {
  "kernelspec": {
   "display_name": "Python [conda env:base] *",
   "language": "python",
   "name": "conda-base-py"
  },
  "language_info": {
   "codemirror_mode": {
    "name": "ipython",
    "version": 3
   },
   "file_extension": ".py",
   "mimetype": "text/x-python",
   "name": "python",
   "nbconvert_exporter": "python",
   "pygments_lexer": "ipython3",
   "version": "3.12.7"
  }
 },
 "nbformat": 4,
 "nbformat_minor": 5
}
