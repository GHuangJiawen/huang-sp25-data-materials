{
 "cells": [
  {
   "cell_type": "code",
   "execution_count": null,
   "id": "95370766-7638-49f6-bab9-1e71a94276ce",
   "metadata": {},
   "outputs": [],
   "source": []
  },
  {
   "cell_type": "code",
   "execution_count": null,
   "id": "661970bb-abde-4551-8c3a-dba3e7e48a1e",
   "metadata": {},
   "outputs": [],
   "source": [
    "non_null_counts = df.notnull().sum().sort_values(ascending=False).head(10).reset_index()\n",
    "non_null_counts.columns = ['Field', 'NonNullCount']\n",
    "px.bar(non_null_counts, x='Field', y='NonNullCount', title='最常被填写的字段')"
   ]
  },
  {
   "cell_type": "code",
   "execution_count": null,
   "id": "89679624-e1f6-4eab-aa04-90055e0c37a7",
   "metadata": {},
   "outputs": [],
   "source": [
    "import plotly.express as px\n",
    "city_counts = df['residenceCity'].value_counts().nlargest(10).reset_index()\n",
    "city_counts.columns = ['City', 'Count']\n",
    "px.bar(city_counts, x='City', y='Count', title='前十城市的成员记录数量')"
   ]
  },
  {
   "cell_type": "code",
   "execution_count": null,
   "id": "31a94c80-690c-4cce-9c93-eaed0eb36043",
   "metadata": {},
   "outputs": [],
   "source": [
    "symbol_counts = df['symbolExists'].value_counts().reset_index()\n",
    "symbol_counts.columns = ['HasSymbol', 'Count']\n",
    "\n",
    "fig = px.pie(symbol_counts, names='HasSymbol', values='Count',\n",
    "             title='是否带有符号标记的成员占比')\n",
    "\n",
    "fig.show()\n"
   ]
  },
  {
   "cell_type": "code",
   "execution_count": null,
   "id": "6c1979ec-ff3e-4771-9dfe-1cda0b51ebfc",
   "metadata": {},
   "outputs": [],
   "source": [
    "missing_counts = df.isnull().sum().sort_values(ascending=False).head(5).reset_index()\n",
    "missing_counts.columns = ['Field', 'MissingCount']\n",
    "\n",
    "fig = px.bar(missing_counts, x='Field', y='MissingCount',\n",
    "             title='缺失记录最多的字段（前5）',\n",
    "             labels={'Field': '字段', 'MissingCount': '缺失数量'})\n",
    "\n",
    "fig.show()\n"
   ]
  }
 ],
 "metadata": {
  "kernelspec": {
   "display_name": "Python [conda env:base] *",
   "language": "python",
   "name": "conda-base-py"
  },
  "language_info": {
   "codemirror_mode": {
    "name": "ipython",
    "version": 3
   },
   "file_extension": ".py",
   "mimetype": "text/x-python",
   "name": "python",
   "nbconvert_exporter": "python",
   "pygments_lexer": "ipython3",
   "version": "3.12.7"
  }
 },
 "nbformat": 4,
 "nbformat_minor": 5
}
