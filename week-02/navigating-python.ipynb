{
 "cells": [
  {
   "cell_type": "code",
   "execution_count": 5,
   "id": "71592d4c-2823-41b6-bf50-e817ce65ff8f",
   "metadata": {},
   "outputs": [
    {
     "name": "stdout",
     "output_type": "stream",
     "text": [
      "Lucy\n"
     ]
    }
   ],
   "source": [
    "first_name = \"Lucy\"\n",
    "last_name = \"Parsons\"\n",
    "birth_year = 1851\n",
    "birth_state = \"Texas/Virginia\"\n",
    "print(first_name)"
   ]
  },
  {
   "cell_type": "code",
   "execution_count": 9,
   "id": "dbfba822-f854-49e2-8b07-f515f20d616b",
   "metadata": {},
   "outputs": [
    {
     "data": {
      "text/plain": [
       "int"
      ]
     },
     "execution_count": 9,
     "metadata": {},
     "output_type": "execute_result"
    }
   ],
   "source": [
    "type(birth_year)"
   ]
  },
  {
   "cell_type": "code",
   "execution_count": 13,
   "id": "77715cd0-08e2-4296-a44f-4611f15edec4",
   "metadata": {},
   "outputs": [
    {
     "name": "stdout",
     "output_type": "stream",
     "text": [
      "Lucy Parsons\n"
     ]
    }
   ],
   "source": [
    "full_name = first_name +\" \"+ last_name\n",
    "print(full_name)"
   ]
  },
  {
   "cell_type": "code",
   "execution_count": 17,
   "id": "b08d7708-9172-4c95-a1c9-903d4c2e2308",
   "metadata": {},
   "outputs": [
    {
     "name": "stdout",
     "output_type": "stream",
     "text": [
      "35\n"
     ]
    }
   ],
   "source": [
    "haymarket_year = 1886\n",
    "haymarket_age = haymarket_year - birth_year\n",
    "print(haymarket_age)"
   ]
  },
  {
   "cell_type": "code",
   "execution_count": 23,
   "id": "9540c047-2b2e-451e-acef-8865b53f9f26",
   "metadata": {},
   "outputs": [
    {
     "name": "stdout",
     "output_type": "stream",
     "text": [
      "There are 180 more citations on Emma Goldman than Lucy Parsons\n"
     ]
    }
   ],
   "source": [
    "emma_citations = 216\n",
    "lucy_citations = 36\n",
    "citation_difference = emma_citations - lucy_citations\n",
    "print(f\"There are {citation_difference} more citations on Emma Goldman than Lucy Parsons\" )"
   ]
  },
  {
   "cell_type": "code",
   "execution_count": null,
   "id": "5f1378ac-b4b1-44ee-a6bd-1c16ac2dcc58",
   "metadata": {},
   "outputs": [],
   "source": []
  }
 ],
 "metadata": {
  "kernelspec": {
   "display_name": "Python [conda env:base] *",
   "language": "python",
   "name": "conda-base-py"
  },
  "language_info": {
   "codemirror_mode": {
    "name": "ipython",
    "version": 3
   },
   "file_extension": ".py",
   "mimetype": "text/x-python",
   "name": "python",
   "nbconvert_exporter": "python",
   "pygments_lexer": "ipython3",
   "version": "3.12.7"
  }
 },
 "nbformat": 4,
 "nbformat_minor": 5
}
