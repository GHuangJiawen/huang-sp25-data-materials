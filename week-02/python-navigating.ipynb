{
  "metadata": {
    "kernelspec": {
      "name": "python",
      "display_name": "Python (Pyodide)",
      "language": "python"
    },
    "language_info": {
      "name": ""
    }
  },
  "nbformat_minor": 5,
  "nbformat": 4,
  "cells": [
    {
      "id": "e0ca5f59-4838-4681-9661-4f93a2948ee3",
      "cell_type": "code",
      "source": "first_name=\"Lucy\"\nlast_name=\"Parsons\"\nbirth_year=1851\nbirth_state=\"Texas/Virginia\"\nprint(first_name)",
      "metadata": {
        "trusted": true
      },
      "outputs": [],
      "execution_count": null
    },
    {
      "id": "fe4c9dba-e173-4509-b8e2-76e738b732a3",
      "cell_type": "code",
      "source": "type(birth_year)",
      "metadata": {
        "trusted": true
      },
      "outputs": [],
      "execution_count": null
    },
    {
      "id": "4d5a5ae9-757c-48b8-a9fd-4a9e8bb259bf",
      "cell_type": "code",
      "source": "full_name=first_name+\" \"+last_name\nPrint(full_name)",
      "metadata": {
        "trusted": true
      },
      "outputs": [],
      "execution_count": null
    },
    {
      "id": "de465626-28ab-44b4-a1b3-8034ba7f86e2",
      "cell_type": "code",
      "source": "haymarket_year = 1886\nhaymarket_age=haymarket_year-birth_year\nprint(haymarket_age)",
      "metadata": {
        "trusted": true
      },
      "outputs": [],
      "execution_count": null
    },
    {
      "id": "61a8c9a1-a387-4544-8eac-5c3e6bd437b1",
      "cell_type": "code",
      "source": "emma_citations=216\nlucy_citations=36\ncitations_differences=emma_citations-lucy_citatyions\nprint(citations_differences)",
      "metadata": {
        "trusted": true
      },
      "outputs": [],
      "execution_count": null
    },
    {
      "id": "c332f46a-f2e3-45e2-9288-fc50744fa225",
      "cell_type": "code",
      "source": "print(There are {citations_differences} more citations on Emma Goldman than Lucy Parsons",
      "metadata": {
        "trusted": true
      },
      "outputs": [],
      "execution_count": null
    }
  ]
}